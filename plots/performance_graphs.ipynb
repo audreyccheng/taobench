{
 "cells": [
  {
   "cell_type": "code",
   "execution_count": 1,
   "id": "paperback-kernel",
   "metadata": {},
   "outputs": [],
   "source": [
    "from collections import Counter \n",
    "import numpy as np\n",
    "import matplotlib\n",
    "import matplotlib.pyplot as plt\n",
    "import pandas as pd\n",
    "import re as re\n",
    "import random\n",
    "import csv\n",
    "import json\n",
    "from scipy.interpolate import UnivariateSpline"
   ]
  },
  {
   "cell_type": "code",
   "execution_count": 2,
   "id": "sapphire-phase",
   "metadata": {},
   "outputs": [
    {
     "name": "stdout",
     "output_type": "stream",
     "text": [
      "/Library/Fonts/LinLibertine_R.otf\n",
      "/Library/Fonts/LinLibertine_DR.otf\n",
      "/Library/Fonts/LinLibertine_RZI.otf\n",
      "/Library/Fonts/LinLibertine_RB.otf\n",
      "/Library/Fonts/LinLibertine_RZ.otf\n",
      "/Library/Fonts/LinLibertine_M.otf\n",
      "/Library/Fonts/LinLibertine_I.otf\n",
      "/Library/Fonts/LinLibertine_RI.otf\n",
      "/Library/Fonts/LinLibertine_RBI.otf\n",
      "Linux Libertine O\n"
     ]
    }
   ],
   "source": [
    "import matplotlib.font_manager as font_manager\n",
    "for font in  font_manager.findSystemFonts():\n",
    "#     if font == '/Library/Fonts/LinLibertine_R.otf':\n",
    "    if font.find(\"LinLibertine\") != -1:\n",
    "        print(font)\n",
    "#         font_manager.fontManager.addfont(font)\n",
    "from os.path import expanduser\n",
    "import matplotlib\n",
    "import matplotlib.font_manager as font_manager\n",
    "# matplotlib.use('Agg')\n",
    "fontpath = expanduser('/Library/Fonts/LinLibertine_RB.otf')\n",
    "prop = font_manager.FontProperties(fname=fontpath)\n",
    "print(prop.get_name())\n",
    "matplotlib.rcParams['font.family'] = prop.get_name()\n",
    "matplotlib.rcParams['text.usetex'] = True\n",
    "new_rc_params = {'text.usetex': True,\n",
    "         'svg.fonttype': 'none',\n",
    "         'text.latex.preamble': r'\\usepackage{libertine}',\n",
    "         'font.size': 10,\n",
    "         'font.family': 'Linux Libertine',\n",
    "         'mathtext.fontset': 'custom',\n",
    "         'mathtext.rm': 'libertine',\n",
    "         'mathtext.it': 'libertine:italic',\n",
    "         'mathtext.bf': 'libertine:bold'\n",
    "         }\n",
    "\n",
    "matplotlib.rcParams.update(new_rc_params)"
   ]
  },
  {
   "cell_type": "code",
   "execution_count": 105,
   "id": "round-horror",
   "metadata": {},
   "outputs": [],
   "source": [
    "# TiDB\n",
    "throughput = [998.08, 1983.16, 3869.95, 7897.13, 15929.6, 31383.6, 50148.8]\n",
    "reads = [4867.39/1000, 5955.68/1000, 6351.30/1000, 5052.89/1000, 5314.87/1000, 6283.17/1000, 8018.52/1000]\n",
    "writes = [10861.21/1000, 13209.80/1000, 14987.92/1000, 14487.75/1000, 15585.56/1000, 17953.21/1000, 26568.55/1000]\n",
    "read_txns = [9758.59/1000, 13576.08/1000, 14074.85/1000, 9746.68/1000,  10287.35/1000, 12244.21/1000, 15109.81/1000]\n",
    "write_txns = [35471.41/1000, 41080.68/1000, 45535.86/1000, 43167.95/1000, 46041.31/1000, 52610.05/1000, 77634.66/1000]\n",
    "\n",
    "# Yugabyte\n",
    "# throughput = [1000,2000,4000,8000]#[222.95,423.119,420.234,424.589]\n",
    "reads2 = [22394.43/1000,22392/1000.60,22495.10/1000,22252.86/1000]\n",
    "writes2 = [24308.77/1000,24177.45/1000,24360.48/1000,24140.18/1000]\n",
    "read_txns2 = [109961.93/1000,109328.13/1000,110569.67/1000,109505.23/1000]\n",
    "write_txns2 = [115473.99/1000,115113.16/1000,115810.10/1000,114815.83/1000]\n",
    "\n",
    "# CRDB\n",
    "# throughput = [995.771,1994.89,3977.98,7313.45,10613.3,8656.84,8161.82]\n",
    "# reads = [2530.02/1000,1947.64/1000,8394.31/1000,13712/1000,9851.72/1000,14886.1/1000,12270.27/1000]\n",
    "# writes = [7683.55,6847.622,15939.69,29142,98188.43,299426.3,378753.7]\n",
    "# read_txns = [6727.02,5774.31,15937,23710.68,20873.75,33984.84,27109.19]\n",
    "# write_txns = [19333.93,16950.11,29641,58568.18,225524.8,732479.9,886538.7]\n",
    "# throughput = [1000,2000,4000,8000,16000,32000]#997.87,1994.81,3983.36,7917.91,12035.7,8936.98\n",
    "reads3 = [1788.75/1000,1788.75/1000,2287.23/1000,2169.48/1000,2795.6/1000,4061.93/1000]\n",
    "writes3 = [4330.696/1000,4906.518/1000,5375.68/1000,5303.953/1000,11314.11/1000,28090.53/1000]\n",
    "read_txns3 = [5253.25/1000,6749.69/1000,7378.64/1000,6773.24/1000,8429.6/1000,10814.14/1000]\n",
    "write_txns3 = [11882.05/1000,13652.87/1000,14741.44/1000,14206.98/1000,26125.29/1000,67697.31/1000]\n",
    "\n",
    "# Spanner\n",
    "# [995.146,1990.58,2772.99,2942,2925.83]\n",
    "throughput = [1000,2000,4000,6000,8000]\n",
    "reads4 = [21758/1000,20711/1000,64639/1000,166271/1000,203725/1000]\n",
    "writes4 = [44417/1000,45003/1000,135272/1000,341905/1000,420738/1000]\n",
    "read_txns4 = [44077/1000,42530/1000,133291/1000,341325/1000,418412/1000]\n",
    "write_txns4 = [88755/1000,90569/1000,269689/1000,670569/1000,822137/1000]\n"
   ]
  },
  {
   "cell_type": "code",
   "execution_count": 118,
   "id": "excess-tamil",
   "metadata": {},
   "outputs": [
    {
     "data": {
      "image/png": "[encoded data removed]",
      "text/plain": [
       "<Figure size 432x288 with 1 Axes>"
      ]
     },
     "metadata": {
      "needs_background": "light"
     },
     "output_type": "display_data"
    }
   ],
   "source": [
    "fig = plt.figure()\n",
    "ax = fig.add_axes([0,0,1,1])\n",
    "\n",
    "# plt.plot(throughput, reads, marker='*',label=\"CRDB\")\n",
    "# plt.plot(throughput, writes, marker='*', color='green',label=\"TiDB\")\n",
    "# plt.plot(throughput, read_txns, marker='*', color='goldenrod',label=\"TiDB\")\n",
    "# plt.plot(throughput, write_txns, marker='*', color='orange',label=\"TiDB\")\n",
    "\n",
    "# plt.plot(throughput, reads, marker='*',label=\"TiDB\")\n",
    "# plt.plot(throughput[:4], reads2, marker='*',label=\"Yugabyte\")\n",
    "# plt.plot(throughput[:6], reads3, marker='*',label=\"CRDB\")\n",
    "# plt.plot(throughput, reads4, marker='*',label=\"Spanner\")\n",
    "\n",
    "# plt.plot(throughput, writes, marker='*',label=\"TiDB\")\n",
    "# plt.plot(throughput[:4], writes2, marker='*',label=\"Yugabyte\")\n",
    "# plt.plot(throughput[:6], writes3, marker='*',label=\"CRDB\")\n",
    "plt.plot(throughput, writes4, marker='*',label=\"Spanner\", color='green')\n",
    "\n",
    "# plt.plot(throughput, read_txns, marker='*',label=\"TiDB\")\n",
    "# plt.plot(throughput[:4], read_txns2, marker='*',label=\"Yugabyte\")\n",
    "# plt.plot(throughput[:6], read_txns3, marker='*',label=\"CRDB\")\n",
    "# plt.plot(throughput, read_txns4, marker='*',label=\"Spanner\", color='goldenrod')\n",
    "\n",
    "# plt.plot(throughput, write_txns, marker='*',label=\"TiDB\")\n",
    "# plt.plot(throughput[:4], write_txns2, marker='*',label=\"Yugabyte\")\n",
    "# plt.plot(throughput[:6], write_txns3, marker='*',label=\"CRDB\")\n",
    "# plt.plot(throughput, write_txns4, marker='*',label=\"Spanner\", color='orange')\n",
    "\n",
    "# ax.get_xaxis().set_ticks([1000,8000,16000,32000])\n",
    "# ax.get_xaxis().set_ticklabels([\"(1K,1K)\",\"(8K,8K)\",\"(16K,12K)\",\"(32K,8.9K)\"])\n",
    "ax.get_xaxis().set_ticks([1000,2000,4000,6000,8000])\n",
    "ax.get_xaxis().set_ticklabels([\"\",\"(2K,2K)\",\"(4K,2.7K)\",\"(4K,2.9K)\",\"(8K,2.9K)\"])\n",
    "ax.tick_params(axis='both', which='major', labelsize=24)\n",
    "\n",
    "# plt.ylim(0,70)\n",
    "plt.xlabel(\"Throughput in ops/s (requested, actual) \", fontsize=24, color='black') #in ops/s (requested, actual)\n",
    "plt.ylabel(\"Write latency (ms)\", fontsize=24, color='black') # Read transaction \n",
    "plt.title(\"\", fontsize=24, color='black') #Workload XYZ\n",
    "legend = plt.legend(loc='upper left', fontsize=18)\n",
    "plt.setp(legend.get_texts(), color='black')\n",
    "plt.show()"
   ]
  },
  {
   "cell_type": "code",
   "execution_count": null,
   "id": "actual-exception",
   "metadata": {},
   "outputs": [],
   "source": []
  },
  {
   "cell_type": "code",
   "execution_count": null,
   "id": "supposed-device",
   "metadata": {},
   "outputs": [],
   "source": []
  },
  {
   "cell_type": "code",
   "execution_count": null,
   "id": "stone-prime",
   "metadata": {},
   "outputs": [],
   "source": []
  },
  {
   "cell_type": "code",
   "execution_count": null,
   "id": "pediatric-basis",
   "metadata": {},
   "outputs": [],
   "source": []
  }
 ],
 "metadata": {
  "kernelspec": {
   "display_name": "Python 3",
   "language": "python",
   "name": "python3"
  },
  "language_info": {
   "codemirror_mode": {
    "name": "ipython",
    "version": 3
   },
   "file_extension": ".py",
   "mimetype": "text/x-python",
   "name": "python",
   "nbconvert_exporter": "python",
   "pygments_lexer": "ipython3",
   "version": "3.8.5"
  }
 },
 "nbformat": 4,
 "nbformat_minor": 5
}
